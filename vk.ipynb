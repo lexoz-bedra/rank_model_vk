{
  "nbformat": 4,
  "nbformat_minor": 0,
  "metadata": {
    "colab": {
      "provenance": [],
      "authorship_tag": "ABX9TyNj+pYkHoCq+wFz6CY6GEMH",
      "include_colab_link": true
    },
    "kernelspec": {
      "name": "python3",
      "display_name": "Python 3"
    },
    "language_info": {
      "name": "python"
    }
  },
  "cells": [
    {
      "cell_type": "markdown",
      "metadata": {
        "id": "view-in-github",
        "colab_type": "text"
      },
      "source": [
        "<a href=\"https://colab.research.google.com/github/lexoz-bedra/rank_model_vk/blob/main/vk.ipynb\" target=\"_parent\"><img src=\"https://colab.research.google.com/assets/colab-badge.svg\" alt=\"Open In Colab\"/></a>"
      ]
    },
    {
      "cell_type": "code",
      "execution_count": 40,
      "metadata": {
        "id": "cVXaZ84gCLDr"
      },
      "outputs": [],
      "source": [
        "import pandas as pd\n",
        "import numpy as np\n",
        "import matplotlib.pyplot as plt\n",
        "\n",
        "from sklearn.model_selection import train_test_split, GridSearchCV\n",
        "from sklearn.metrics import ndcg_score\n",
        "from xgboost import XGBClassifier, XGBRanker\n",
        "\n",
        "import torch\n",
        "import torch.nn as nn\n",
        "from torch.utils.data import Dataset, DataLoader\n",
        "\n",
        "from google.colab import drive"
      ]
    },
    {
      "cell_type": "code",
      "source": [
        "drive.mount('/content/drive/')"
      ],
      "metadata": {
        "colab": {
          "base_uri": "https://localhost:8080/"
        },
        "id": "AZADqNGHNWFy",
        "outputId": "42a4a47b-7dd1-47c6-8194-9da91b6a984c"
      },
      "execution_count": 41,
      "outputs": [
        {
          "output_type": "stream",
          "name": "stdout",
          "text": [
            "Mounted at /content/drive/\n"
          ]
        }
      ]
    },
    {
      "cell_type": "code",
      "source": [
        "data = pd.read_csv('/content/drive/My Drive/vk/intern_task_1.csv')"
      ],
      "metadata": {
        "id": "UpSLIwPrGz8T"
      },
      "execution_count": 42,
      "outputs": []
    },
    {
      "cell_type": "code",
      "source": [
        "data.head(3)"
      ],
      "metadata": {
        "colab": {
          "base_uri": "https://localhost:8080/",
          "height": 192
        },
        "id": "ju5kjfAvG4DO",
        "outputId": "a54c6f04-6e0e-4c06-aa4e-ad108467e952"
      },
      "execution_count": 43,
      "outputs": [
        {
          "output_type": "execute_result",
          "data": {
            "text/plain": [
              "   rank  query_id  feature_0  feature_1  feature_2  feature_3  feature_4  \\\n",
              "0     0        10        1.0        0.0        1.0        3.0        3.0   \n",
              "1     1        10        3.0        0.0        3.0        0.0        3.0   \n",
              "2     0        10        3.0        0.0        2.0        0.0        3.0   \n",
              "\n",
              "   feature_5  feature_6  feature_7  ...  feature_134  feature_135  \\\n",
              "0   0.333333        0.0   0.333333  ...          0.0          0.0   \n",
              "1   1.000000        0.0   1.000000  ...          0.0          0.0   \n",
              "2   1.000000        0.0   0.666667  ...          0.0          0.0   \n",
              "\n",
              "   feature_136  feature_137  feature_138  feature_139  feature_140  \\\n",
              "0     0.454545     0.890238     8.655534          1.0     0.077778   \n",
              "1     0.000000     0.773976    23.130514          0.0     0.027826   \n",
              "2     0.000000     0.918308    13.351339          0.0     0.014925   \n",
              "\n",
              "   feature_141  feature_142  feature_143  \n",
              "0     0.002222          1.0     0.333333  \n",
              "1     0.000430         44.0    14.666667  \n",
              "2     0.000104         22.0     7.333333  \n",
              "\n",
              "[3 rows x 146 columns]"
            ],
            "text/html": [
              "\n",
              "  <div id=\"df-aea22436-6788-4ac1-9c74-c66982e0f1f3\" class=\"colab-df-container\">\n",
              "    <div>\n",
              "<style scoped>\n",
              "    .dataframe tbody tr th:only-of-type {\n",
              "        vertical-align: middle;\n",
              "    }\n",
              "\n",
              "    .dataframe tbody tr th {\n",
              "        vertical-align: top;\n",
              "    }\n",
              "\n",
              "    .dataframe thead th {\n",
              "        text-align: right;\n",
              "    }\n",
              "</style>\n",
              "<table border=\"1\" class=\"dataframe\">\n",
              "  <thead>\n",
              "    <tr style=\"text-align: right;\">\n",
              "      <th></th>\n",
              "      <th>rank</th>\n",
              "      <th>query_id</th>\n",
              "      <th>feature_0</th>\n",
              "      <th>feature_1</th>\n",
              "      <th>feature_2</th>\n",
              "      <th>feature_3</th>\n",
              "      <th>feature_4</th>\n",
              "      <th>feature_5</th>\n",
              "      <th>feature_6</th>\n",
              "      <th>feature_7</th>\n",
              "      <th>...</th>\n",
              "      <th>feature_134</th>\n",
              "      <th>feature_135</th>\n",
              "      <th>feature_136</th>\n",
              "      <th>feature_137</th>\n",
              "      <th>feature_138</th>\n",
              "      <th>feature_139</th>\n",
              "      <th>feature_140</th>\n",
              "      <th>feature_141</th>\n",
              "      <th>feature_142</th>\n",
              "      <th>feature_143</th>\n",
              "    </tr>\n",
              "  </thead>\n",
              "  <tbody>\n",
              "    <tr>\n",
              "      <th>0</th>\n",
              "      <td>0</td>\n",
              "      <td>10</td>\n",
              "      <td>1.0</td>\n",
              "      <td>0.0</td>\n",
              "      <td>1.0</td>\n",
              "      <td>3.0</td>\n",
              "      <td>3.0</td>\n",
              "      <td>0.333333</td>\n",
              "      <td>0.0</td>\n",
              "      <td>0.333333</td>\n",
              "      <td>...</td>\n",
              "      <td>0.0</td>\n",
              "      <td>0.0</td>\n",
              "      <td>0.454545</td>\n",
              "      <td>0.890238</td>\n",
              "      <td>8.655534</td>\n",
              "      <td>1.0</td>\n",
              "      <td>0.077778</td>\n",
              "      <td>0.002222</td>\n",
              "      <td>1.0</td>\n",
              "      <td>0.333333</td>\n",
              "    </tr>\n",
              "    <tr>\n",
              "      <th>1</th>\n",
              "      <td>1</td>\n",
              "      <td>10</td>\n",
              "      <td>3.0</td>\n",
              "      <td>0.0</td>\n",
              "      <td>3.0</td>\n",
              "      <td>0.0</td>\n",
              "      <td>3.0</td>\n",
              "      <td>1.000000</td>\n",
              "      <td>0.0</td>\n",
              "      <td>1.000000</td>\n",
              "      <td>...</td>\n",
              "      <td>0.0</td>\n",
              "      <td>0.0</td>\n",
              "      <td>0.000000</td>\n",
              "      <td>0.773976</td>\n",
              "      <td>23.130514</td>\n",
              "      <td>0.0</td>\n",
              "      <td>0.027826</td>\n",
              "      <td>0.000430</td>\n",
              "      <td>44.0</td>\n",
              "      <td>14.666667</td>\n",
              "    </tr>\n",
              "    <tr>\n",
              "      <th>2</th>\n",
              "      <td>0</td>\n",
              "      <td>10</td>\n",
              "      <td>3.0</td>\n",
              "      <td>0.0</td>\n",
              "      <td>2.0</td>\n",
              "      <td>0.0</td>\n",
              "      <td>3.0</td>\n",
              "      <td>1.000000</td>\n",
              "      <td>0.0</td>\n",
              "      <td>0.666667</td>\n",
              "      <td>...</td>\n",
              "      <td>0.0</td>\n",
              "      <td>0.0</td>\n",
              "      <td>0.000000</td>\n",
              "      <td>0.918308</td>\n",
              "      <td>13.351339</td>\n",
              "      <td>0.0</td>\n",
              "      <td>0.014925</td>\n",
              "      <td>0.000104</td>\n",
              "      <td>22.0</td>\n",
              "      <td>7.333333</td>\n",
              "    </tr>\n",
              "  </tbody>\n",
              "</table>\n",
              "<p>3 rows × 146 columns</p>\n",
              "</div>\n",
              "    <div class=\"colab-df-buttons\">\n",
              "\n",
              "  <div class=\"colab-df-container\">\n",
              "    <button class=\"colab-df-convert\" onclick=\"convertToInteractive('df-aea22436-6788-4ac1-9c74-c66982e0f1f3')\"\n",
              "            title=\"Convert this dataframe to an interactive table.\"\n",
              "            style=\"display:none;\">\n",
              "\n",
              "  <svg xmlns=\"http://www.w3.org/2000/svg\" height=\"24px\" viewBox=\"0 -960 960 960\">\n",
              "    <path d=\"M120-120v-720h720v720H120Zm60-500h600v-160H180v160Zm220 220h160v-160H400v160Zm0 220h160v-160H400v160ZM180-400h160v-160H180v160Zm440 0h160v-160H620v160ZM180-180h160v-160H180v160Zm440 0h160v-160H620v160Z\"/>\n",
              "  </svg>\n",
              "    </button>\n",
              "\n",
              "  <style>\n",
              "    .colab-df-container {\n",
              "      display:flex;\n",
              "      gap: 12px;\n",
              "    }\n",
              "\n",
              "    .colab-df-convert {\n",
              "      background-color: #E8F0FE;\n",
              "      border: none;\n",
              "      border-radius: 50%;\n",
              "      cursor: pointer;\n",
              "      display: none;\n",
              "      fill: #1967D2;\n",
              "      height: 32px;\n",
              "      padding: 0 0 0 0;\n",
              "      width: 32px;\n",
              "    }\n",
              "\n",
              "    .colab-df-convert:hover {\n",
              "      background-color: #E2EBFA;\n",
              "      box-shadow: 0px 1px 2px rgba(60, 64, 67, 0.3), 0px 1px 3px 1px rgba(60, 64, 67, 0.15);\n",
              "      fill: #174EA6;\n",
              "    }\n",
              "\n",
              "    .colab-df-buttons div {\n",
              "      margin-bottom: 4px;\n",
              "    }\n",
              "\n",
              "    [theme=dark] .colab-df-convert {\n",
              "      background-color: #3B4455;\n",
              "      fill: #D2E3FC;\n",
              "    }\n",
              "\n",
              "    [theme=dark] .colab-df-convert:hover {\n",
              "      background-color: #434B5C;\n",
              "      box-shadow: 0px 1px 3px 1px rgba(0, 0, 0, 0.15);\n",
              "      filter: drop-shadow(0px 1px 2px rgba(0, 0, 0, 0.3));\n",
              "      fill: #FFFFFF;\n",
              "    }\n",
              "  </style>\n",
              "\n",
              "    <script>\n",
              "      const buttonEl =\n",
              "        document.querySelector('#df-aea22436-6788-4ac1-9c74-c66982e0f1f3 button.colab-df-convert');\n",
              "      buttonEl.style.display =\n",
              "        google.colab.kernel.accessAllowed ? 'block' : 'none';\n",
              "\n",
              "      async function convertToInteractive(key) {\n",
              "        const element = document.querySelector('#df-aea22436-6788-4ac1-9c74-c66982e0f1f3');\n",
              "        const dataTable =\n",
              "          await google.colab.kernel.invokeFunction('convertToInteractive',\n",
              "                                                    [key], {});\n",
              "        if (!dataTable) return;\n",
              "\n",
              "        const docLinkHtml = 'Like what you see? Visit the ' +\n",
              "          '<a target=\"_blank\" href=https://colab.research.google.com/notebooks/data_table.ipynb>data table notebook</a>'\n",
              "          + ' to learn more about interactive tables.';\n",
              "        element.innerHTML = '';\n",
              "        dataTable['output_type'] = 'display_data';\n",
              "        await google.colab.output.renderOutput(dataTable, element);\n",
              "        const docLink = document.createElement('div');\n",
              "        docLink.innerHTML = docLinkHtml;\n",
              "        element.appendChild(docLink);\n",
              "      }\n",
              "    </script>\n",
              "  </div>\n",
              "\n",
              "\n",
              "<div id=\"df-4c0cf531-89aa-41c9-b19c-3544d9454512\">\n",
              "  <button class=\"colab-df-quickchart\" onclick=\"quickchart('df-4c0cf531-89aa-41c9-b19c-3544d9454512')\"\n",
              "            title=\"Suggest charts\"\n",
              "            style=\"display:none;\">\n",
              "\n",
              "<svg xmlns=\"http://www.w3.org/2000/svg\" height=\"24px\"viewBox=\"0 0 24 24\"\n",
              "     width=\"24px\">\n",
              "    <g>\n",
              "        <path d=\"M19 3H5c-1.1 0-2 .9-2 2v14c0 1.1.9 2 2 2h14c1.1 0 2-.9 2-2V5c0-1.1-.9-2-2-2zM9 17H7v-7h2v7zm4 0h-2V7h2v10zm4 0h-2v-4h2v4z\"/>\n",
              "    </g>\n",
              "</svg>\n",
              "  </button>\n",
              "\n",
              "<style>\n",
              "  .colab-df-quickchart {\n",
              "      --bg-color: #E8F0FE;\n",
              "      --fill-color: #1967D2;\n",
              "      --hover-bg-color: #E2EBFA;\n",
              "      --hover-fill-color: #174EA6;\n",
              "      --disabled-fill-color: #AAA;\n",
              "      --disabled-bg-color: #DDD;\n",
              "  }\n",
              "\n",
              "  [theme=dark] .colab-df-quickchart {\n",
              "      --bg-color: #3B4455;\n",
              "      --fill-color: #D2E3FC;\n",
              "      --hover-bg-color: #434B5C;\n",
              "      --hover-fill-color: #FFFFFF;\n",
              "      --disabled-bg-color: #3B4455;\n",
              "      --disabled-fill-color: #666;\n",
              "  }\n",
              "\n",
              "  .colab-df-quickchart {\n",
              "    background-color: var(--bg-color);\n",
              "    border: none;\n",
              "    border-radius: 50%;\n",
              "    cursor: pointer;\n",
              "    display: none;\n",
              "    fill: var(--fill-color);\n",
              "    height: 32px;\n",
              "    padding: 0;\n",
              "    width: 32px;\n",
              "  }\n",
              "\n",
              "  .colab-df-quickchart:hover {\n",
              "    background-color: var(--hover-bg-color);\n",
              "    box-shadow: 0 1px 2px rgba(60, 64, 67, 0.3), 0 1px 3px 1px rgba(60, 64, 67, 0.15);\n",
              "    fill: var(--button-hover-fill-color);\n",
              "  }\n",
              "\n",
              "  .colab-df-quickchart-complete:disabled,\n",
              "  .colab-df-quickchart-complete:disabled:hover {\n",
              "    background-color: var(--disabled-bg-color);\n",
              "    fill: var(--disabled-fill-color);\n",
              "    box-shadow: none;\n",
              "  }\n",
              "\n",
              "  .colab-df-spinner {\n",
              "    border: 2px solid var(--fill-color);\n",
              "    border-color: transparent;\n",
              "    border-bottom-color: var(--fill-color);\n",
              "    animation:\n",
              "      spin 1s steps(1) infinite;\n",
              "  }\n",
              "\n",
              "  @keyframes spin {\n",
              "    0% {\n",
              "      border-color: transparent;\n",
              "      border-bottom-color: var(--fill-color);\n",
              "      border-left-color: var(--fill-color);\n",
              "    }\n",
              "    20% {\n",
              "      border-color: transparent;\n",
              "      border-left-color: var(--fill-color);\n",
              "      border-top-color: var(--fill-color);\n",
              "    }\n",
              "    30% {\n",
              "      border-color: transparent;\n",
              "      border-left-color: var(--fill-color);\n",
              "      border-top-color: var(--fill-color);\n",
              "      border-right-color: var(--fill-color);\n",
              "    }\n",
              "    40% {\n",
              "      border-color: transparent;\n",
              "      border-right-color: var(--fill-color);\n",
              "      border-top-color: var(--fill-color);\n",
              "    }\n",
              "    60% {\n",
              "      border-color: transparent;\n",
              "      border-right-color: var(--fill-color);\n",
              "    }\n",
              "    80% {\n",
              "      border-color: transparent;\n",
              "      border-right-color: var(--fill-color);\n",
              "      border-bottom-color: var(--fill-color);\n",
              "    }\n",
              "    90% {\n",
              "      border-color: transparent;\n",
              "      border-bottom-color: var(--fill-color);\n",
              "    }\n",
              "  }\n",
              "</style>\n",
              "\n",
              "  <script>\n",
              "    async function quickchart(key) {\n",
              "      const quickchartButtonEl =\n",
              "        document.querySelector('#' + key + ' button');\n",
              "      quickchartButtonEl.disabled = true;  // To prevent multiple clicks.\n",
              "      quickchartButtonEl.classList.add('colab-df-spinner');\n",
              "      try {\n",
              "        const charts = await google.colab.kernel.invokeFunction(\n",
              "            'suggestCharts', [key], {});\n",
              "      } catch (error) {\n",
              "        console.error('Error during call to suggestCharts:', error);\n",
              "      }\n",
              "      quickchartButtonEl.classList.remove('colab-df-spinner');\n",
              "      quickchartButtonEl.classList.add('colab-df-quickchart-complete');\n",
              "    }\n",
              "    (() => {\n",
              "      let quickchartButtonEl =\n",
              "        document.querySelector('#df-4c0cf531-89aa-41c9-b19c-3544d9454512 button');\n",
              "      quickchartButtonEl.style.display =\n",
              "        google.colab.kernel.accessAllowed ? 'block' : 'none';\n",
              "    })();\n",
              "  </script>\n",
              "</div>\n",
              "    </div>\n",
              "  </div>\n"
            ],
            "application/vnd.google.colaboratory.intrinsic+json": {
              "type": "dataframe",
              "variable_name": "data"
            }
          },
          "metadata": {},
          "execution_count": 43
        }
      ]
    },
    {
      "cell_type": "markdown",
      "source": [
        "# EDA & preprocessing"
      ],
      "metadata": {
        "id": "vY1MQJ7MeTln"
      }
    },
    {
      "cell_type": "code",
      "source": [
        "only_vals = []\n",
        "\n",
        "for col in data.drop(columns=['query_id', 'rank']).columns:\n",
        "  if data[col].nunique() == 1:\n",
        "    print(col, data[col].unique())\n",
        "    only_vals.append(col)"
      ],
      "metadata": {
        "colab": {
          "base_uri": "https://localhost:8080/"
        },
        "id": "ApIOD3aAdPn9",
        "outputId": "1ef47782-b3bf-4364-dee6-3be9ed56e1b5"
      },
      "execution_count": 44,
      "outputs": [
        {
          "output_type": "stream",
          "name": "stdout",
          "text": [
            "feature_64 [0]\n",
            "feature_65 [0]\n",
            "feature_72 [1]\n",
            "feature_100 [0]\n"
          ]
        }
      ]
    },
    {
      "cell_type": "code",
      "source": [
        "data = data.drop(columns=only_vals)"
      ],
      "metadata": {
        "id": "bkppGIBreLmF"
      },
      "execution_count": 5,
      "outputs": []
    },
    {
      "cell_type": "code",
      "source": [
        "print(f'Shape: {data.shape}')\n",
        "print(f'Columns: {data.columns}')"
      ],
      "metadata": {
        "colab": {
          "base_uri": "https://localhost:8080/"
        },
        "id": "tKiYU6_SHGd-",
        "outputId": "5fb56703-ca11-4a4f-e7e7-b21e6eaae105"
      },
      "execution_count": 6,
      "outputs": [
        {
          "output_type": "stream",
          "name": "stdout",
          "text": [
            "Shape: (221999, 142)\n",
            "Columns: Index(['rank', 'query_id', 'feature_0', 'feature_1', 'feature_2', 'feature_3',\n",
            "       'feature_4', 'feature_5', 'feature_6', 'feature_7',\n",
            "       ...\n",
            "       'feature_134', 'feature_135', 'feature_136', 'feature_137',\n",
            "       'feature_138', 'feature_139', 'feature_140', 'feature_141',\n",
            "       'feature_142', 'feature_143'],\n",
            "      dtype='object', length=142)\n"
          ]
        }
      ]
    },
    {
      "cell_type": "code",
      "source": [
        "print(data.shape)\n",
        "data.drop_duplicates(inplace=True)\n",
        "print(data.shape)"
      ],
      "metadata": {
        "colab": {
          "base_uri": "https://localhost:8080/"
        },
        "id": "eFt025zqeasn",
        "outputId": "3cbdaf08-18c2-47d8-a07b-0a322719bf6f"
      },
      "execution_count": 7,
      "outputs": [
        {
          "output_type": "stream",
          "name": "stdout",
          "text": [
            "(221999, 142)\n",
            "(221999, 142)\n"
          ]
        }
      ]
    },
    {
      "cell_type": "code",
      "source": [
        "data.isnull().sum().unique()"
      ],
      "metadata": {
        "colab": {
          "base_uri": "https://localhost:8080/"
        },
        "id": "ANaetygVG8Os",
        "outputId": "edc2acab-3c7b-4c68-b395-0c49f550c466"
      },
      "execution_count": 8,
      "outputs": [
        {
          "output_type": "execute_result",
          "data": {
            "text/plain": [
              "array([0, 1])"
            ]
          },
          "metadata": {},
          "execution_count": 8
        }
      ]
    },
    {
      "cell_type": "code",
      "source": [
        "print(data.shape)\n",
        "data.dropna(inplace=True)\n",
        "print(data.shape)"
      ],
      "metadata": {
        "colab": {
          "base_uri": "https://localhost:8080/"
        },
        "id": "xSc2XzI3enw9",
        "outputId": "e4da23f0-ea51-43e7-b050-53ed6f76fdb1"
      },
      "execution_count": 9,
      "outputs": [
        {
          "output_type": "stream",
          "name": "stdout",
          "text": [
            "(221999, 142)\n",
            "(221998, 142)\n"
          ]
        }
      ]
    },
    {
      "cell_type": "code",
      "source": [
        "data.dtypes.unique()"
      ],
      "metadata": {
        "colab": {
          "base_uri": "https://localhost:8080/"
        },
        "id": "jmvBbR0lG52F",
        "outputId": "d2e8c56a-3c46-4331-b5e7-edf33e5bb2f8"
      },
      "execution_count": 10,
      "outputs": [
        {
          "output_type": "execute_result",
          "data": {
            "text/plain": [
              "array([dtype('int64'), dtype('float64')], dtype=object)"
            ]
          },
          "metadata": {},
          "execution_count": 10
        }
      ]
    },
    {
      "cell_type": "code",
      "source": [
        "data['rank'].unique()"
      ],
      "metadata": {
        "colab": {
          "base_uri": "https://localhost:8080/"
        },
        "id": "THdQEKNxIWgw",
        "outputId": "45235c0e-72e3-4c5f-bd44-6408d89c214a"
      },
      "execution_count": 11,
      "outputs": [
        {
          "output_type": "execute_result",
          "data": {
            "text/plain": [
              "array([0, 1, 2, 4, 3])"
            ]
          },
          "metadata": {},
          "execution_count": 11
        }
      ]
    },
    {
      "cell_type": "code",
      "source": [
        "counts = data['query_id'].value_counts()\n",
        "\n",
        "counts"
      ],
      "metadata": {
        "colab": {
          "base_uri": "https://localhost:8080/"
        },
        "id": "5fHuJxGoPG8a",
        "outputId": "2df79c03-b916-4180-9400-3bd82b2684f8"
      },
      "execution_count": 12,
      "outputs": [
        {
          "output_type": "execute_result",
          "data": {
            "text/plain": [
              "query_id\n",
              "22540    908\n",
              "13930    773\n",
              "22450    522\n",
              "19945    444\n",
              "9940     430\n",
              "        ... \n",
              "11410      3\n",
              "22780      2\n",
              "14350      2\n",
              "9265       1\n",
              "20560      1\n",
              "Name: count, Length: 1851, dtype: int64"
            ]
          },
          "metadata": {},
          "execution_count": 12
        }
      ]
    },
    {
      "cell_type": "code",
      "source": [
        "corr = data.corr(method='pearson')"
      ],
      "metadata": {
        "id": "YLE6huonaRm2"
      },
      "execution_count": 13,
      "outputs": []
    },
    {
      "cell_type": "code",
      "source": [
        "for col in corr.columns:\n",
        "  for row in corr.iterrows():\n",
        "    if corr[row[0]][col] > 0.9 and corr[row[0]][col] < 1:\n",
        "      print(row[0], col, corr[row[0]][col])"
      ],
      "metadata": {
        "id": "Toa5kuGgiT8M",
        "colab": {
          "base_uri": "https://localhost:8080/"
        },
        "outputId": "5cbaa7d6-7753-480e-fa16-3b0ecb0cd3de"
      },
      "execution_count": 14,
      "outputs": [
        {
          "output_type": "stream",
          "name": "stdout",
          "text": [
            "feature_8 query_id 0.9991181867845841\n",
            "feature_20 query_id 0.9991181867847642\n",
            "feature_35 query_id 0.999118186784735\n",
            "feature_4 feature_0 0.979259838143921\n",
            "feature_101 feature_1 0.9029509304923932\n",
            "feature_106 feature_1 0.9060398238054369\n",
            "feature_23 feature_3 0.9596961337778669\n",
            "feature_73 feature_3 0.9299891165503587\n",
            "feature_108 feature_3 0.9186752621195532\n",
            "feature_136 feature_3 0.9150628655387286\n",
            "feature_0 feature_4 0.979259838143921\n",
            "feature_137 feature_5 0.9024311630329874\n",
            "feature_101 feature_6 0.9784095428915781\n",
            "feature_102 feature_7 0.9604444534072172\n",
            "query_id feature_8 0.9991181867845841\n",
            "feature_20 feature_8 0.9999999999999991\n",
            "feature_35 feature_8 0.9999999999999974\n",
            "feature_14 feature_10 0.9973991673936746\n",
            "feature_126 feature_13 0.9161563871922709\n",
            "feature_10 feature_14 0.9973991673936746\n",
            "feature_19 feature_15 0.9998861676955451\n",
            "feature_17 feature_16 0.9917524995419423\n",
            "feature_18 feature_16 0.9887493508203611\n",
            "feature_16 feature_17 0.9917524995419423\n",
            "feature_18 feature_17 0.9849600957727969\n",
            "feature_16 feature_18 0.9887493508203611\n",
            "feature_17 feature_18 0.9849600957727969\n",
            "feature_15 feature_19 0.9998861676955451\n",
            "query_id feature_20 0.9991181867847642\n",
            "feature_8 feature_20 0.9999999999999991\n",
            "feature_35 feature_20 0.9999999999999806\n",
            "feature_31 feature_21 0.9081362354354465\n",
            "feature_71 feature_21 0.9828704959353046\n",
            "feature_138 feature_22 0.9509342193022997\n",
            "feature_3 feature_23 0.9596961337778669\n",
            "feature_73 feature_23 0.9546734627584078\n",
            "feature_136 feature_23 0.9085217018172074\n",
            "feature_70 feature_24 0.9185825683038449\n",
            "feature_74 feature_24 0.9194581511026672\n",
            "feature_142 feature_24 0.9990512784276904\n",
            "feature_29 feature_25 0.9960507789095054\n",
            "feature_76 feature_26 0.9641403866945418\n",
            "feature_77 feature_27 0.9256398000898544\n",
            "feature_53 feature_28 0.9081797839426476\n",
            "feature_78 feature_28 0.931393613123114\n",
            "feature_98 feature_28 0.9504737047896611\n",
            "feature_25 feature_29 0.9960507789095054\n",
            "feature_34 feature_30 0.9973524339550298\n",
            "feature_21 feature_31 0.9081362354354465\n",
            "feature_36 feature_31 0.9328106260567832\n",
            "feature_81 feature_31 0.9694675700007974\n",
            "feature_82 feature_32 0.9346975919629064\n",
            "feature_83 feature_33 0.9341593354732521\n",
            "feature_30 feature_34 0.9973524339550298\n",
            "query_id feature_35 0.999118186784735\n",
            "feature_8 feature_35 0.9999999999999974\n",
            "feature_20 feature_35 0.9999999999999806\n",
            "feature_31 feature_36 0.9328106260567832\n",
            "feature_81 feature_36 0.9309063258215127\n",
            "feature_86 feature_36 0.9708225759161987\n",
            "feature_87 feature_37 0.934478827757251\n",
            "feature_88 feature_38 0.9353334236289548\n",
            "feature_103 feature_38 0.9088318559593846\n",
            "feature_139 feature_38 0.9404500291111766\n",
            "feature_143 feature_39 0.9968388943171447\n",
            "feature_44 feature_40 0.9973684587778608\n",
            "feature_91 feature_41 0.9135376518304456\n",
            "feature_92 feature_42 0.9524015929688386\n",
            "feature_40 feature_44 0.9973684587778608\n",
            "feature_56 feature_46 0.9298935409710706\n",
            "feature_106 feature_46 0.9378376996262414\n",
            "feature_60 feature_50 0.9287548026988764\n",
            "feature_62 feature_52 0.9081731099485483\n",
            "feature_28 feature_53 0.9081797839426476\n",
            "feature_98 feature_53 0.9235905433146707\n",
            "feature_140 feature_54 0.9112928175517656\n",
            "feature_60 feature_55 0.9346758594448786\n",
            "feature_46 feature_56 0.9298935409710706\n",
            "feature_61 feature_56 0.9117602664478927\n",
            "feature_62 feature_57 0.9031887310031809\n",
            "feature_63 feature_58 0.9007268739271604\n",
            "feature_140 feature_59 0.9203013684147662\n",
            "feature_50 feature_60 0.9287548026988764\n",
            "feature_55 feature_60 0.9346758594448786\n",
            "feature_56 feature_61 0.9117602664478927\n",
            "feature_52 feature_62 0.9081731099485483\n",
            "feature_57 feature_62 0.9031887310031809\n",
            "feature_58 feature_63 0.9007268739271604\n",
            "feature_139 feature_63 0.9133676315697021\n",
            "feature_24 feature_70 0.9185825683038449\n",
            "feature_74 feature_70 0.9996177092231101\n",
            "feature_142 feature_70 0.9225774008472816\n",
            "feature_21 feature_71 0.9828704959353046\n",
            "feature_81 feature_71 0.9118353983197832\n",
            "feature_3 feature_73 0.9299891165503587\n",
            "feature_23 feature_73 0.9546734627584078\n",
            "feature_83 feature_73 0.911686698326761\n",
            "feature_108 feature_73 0.9573062335144966\n",
            "feature_24 feature_74 0.9194581511026672\n",
            "feature_70 feature_74 0.9996177092231101\n",
            "feature_142 feature_74 0.9224488624838595\n",
            "feature_79 feature_75 0.9957221607028263\n",
            "feature_26 feature_76 0.9641403866945418\n",
            "feature_27 feature_77 0.9256398000898544\n",
            "feature_28 feature_78 0.931393613123114\n",
            "feature_88 feature_78 0.9037846674456944\n",
            "feature_98 feature_78 0.9120218393559404\n",
            "feature_75 feature_79 0.9957221607028263\n",
            "feature_84 feature_80 0.9970997494920486\n",
            "feature_31 feature_81 0.9694675700007974\n",
            "feature_36 feature_81 0.9309063258215127\n",
            "feature_71 feature_81 0.9118353983197832\n",
            "feature_86 feature_81 0.9368259617125418\n",
            "feature_32 feature_82 0.9346975919629064\n",
            "feature_33 feature_83 0.9341593354732521\n",
            "feature_73 feature_83 0.911686698326761\n",
            "feature_88 feature_83 0.9122935319500431\n",
            "feature_103 feature_83 0.9037711655918039\n",
            "feature_108 feature_83 0.9028055891367528\n",
            "feature_80 feature_84 0.9970997494920486\n",
            "feature_89 feature_85 0.9962410052893524\n",
            "feature_36 feature_86 0.9708225759161987\n",
            "feature_81 feature_86 0.9368259617125418\n",
            "feature_37 feature_87 0.934478827757251\n",
            "feature_38 feature_88 0.9353334236289548\n",
            "feature_78 feature_88 0.9037846674456944\n",
            "feature_83 feature_88 0.9122935319500431\n",
            "feature_139 feature_88 0.915223269351418\n",
            "feature_85 feature_89 0.9962410052893524\n",
            "feature_94 feature_90 0.9993173459033412\n",
            "feature_41 feature_91 0.9135376518304456\n",
            "feature_42 feature_92 0.9524015929688386\n",
            "feature_90 feature_94 0.9993173459033412\n",
            "feature_99 feature_95 0.9219021639348898\n",
            "feature_28 feature_98 0.9504737047896611\n",
            "feature_53 feature_98 0.9235905433146707\n",
            "feature_78 feature_98 0.9120218393559404\n",
            "feature_95 feature_99 0.9219021639348898\n",
            "feature_1 feature_101 0.9029509304923932\n",
            "feature_6 feature_101 0.9784095428915781\n",
            "feature_106 feature_101 0.9086401219094069\n",
            "feature_7 feature_102 0.9604444534072172\n",
            "feature_38 feature_103 0.9088318559593846\n",
            "feature_83 feature_103 0.9037711655918039\n",
            "feature_108 feature_103 0.9089438271463471\n",
            "feature_139 feature_103 0.9700800616533662\n",
            "feature_109 feature_105 0.9731798658805821\n",
            "feature_1 feature_106 0.9060398238054369\n",
            "feature_46 feature_106 0.9378376996262414\n",
            "feature_101 feature_106 0.9086401219094069\n",
            "feature_3 feature_108 0.9186752621195532\n",
            "feature_73 feature_108 0.9573062335144966\n",
            "feature_83 feature_108 0.9028055891367528\n",
            "feature_103 feature_108 0.9089438271463471\n",
            "feature_136 feature_108 0.9390925751780098\n",
            "feature_105 feature_109 0.9731798658805821\n",
            "feature_114 feature_110 0.9909782141066795\n",
            "feature_115 feature_110 0.9706658536509891\n",
            "feature_119 feature_110 0.9711779165692541\n",
            "feature_120 feature_110 0.9956859575227653\n",
            "feature_124 feature_110 0.9853514279083918\n",
            "feature_116 feature_111 0.9771609013678981\n",
            "feature_121 feature_111 0.9977390992898838\n",
            "feature_117 feature_112 0.9486548539529839\n",
            "feature_122 feature_112 0.9949255921952397\n",
            "feature_117 feature_113 0.906491317218677\n",
            "feature_118 feature_113 0.984369863850069\n",
            "feature_123 feature_113 0.9979633508347296\n",
            "feature_110 feature_114 0.9909782141066795\n",
            "feature_115 feature_114 0.9636961030758577\n",
            "feature_119 feature_114 0.9720357588166675\n",
            "feature_120 feature_114 0.9873514978583118\n",
            "feature_124 feature_114 0.9961481273626994\n",
            "feature_110 feature_115 0.9706658536509891\n",
            "feature_114 feature_115 0.9636961030758577\n",
            "feature_117 feature_115 0.9165832939468549\n",
            "feature_119 feature_115 0.9975403730428769\n",
            "feature_120 feature_115 0.9631265849200532\n",
            "feature_124 feature_115 0.9569045799917869\n",
            "feature_111 feature_116 0.9771609013678981\n",
            "feature_121 feature_116 0.9694745326957565\n",
            "feature_112 feature_117 0.9486548539529839\n",
            "feature_113 feature_117 0.906491317218677\n",
            "feature_115 feature_117 0.9165832939468549\n",
            "feature_118 feature_117 0.9266048156633903\n",
            "feature_119 feature_117 0.9179308627391318\n",
            "feature_122 feature_117 0.9205887834044844\n",
            "feature_113 feature_118 0.984369863850069\n",
            "feature_117 feature_118 0.9266048156633903\n",
            "feature_123 feature_118 0.973486404289779\n",
            "feature_110 feature_119 0.9711779165692541\n",
            "feature_114 feature_119 0.9720357588166675\n",
            "feature_115 feature_119 0.9975403730428769\n",
            "feature_117 feature_119 0.9179308627391318\n",
            "feature_120 feature_119 0.9637815824367433\n",
            "feature_124 feature_119 0.9658274870989063\n",
            "feature_110 feature_120 0.9956859575227653\n",
            "feature_114 feature_120 0.9873514978583118\n",
            "feature_115 feature_120 0.9631265849200532\n",
            "feature_119 feature_120 0.9637815824367433\n",
            "feature_124 feature_120 0.9889873273877635\n",
            "feature_111 feature_121 0.9977390992898838\n",
            "feature_116 feature_121 0.9694745326957565\n",
            "feature_112 feature_122 0.9949255921952397\n",
            "feature_117 feature_122 0.9205887834044844\n",
            "feature_113 feature_123 0.9979633508347296\n",
            "feature_118 feature_123 0.973486404289779\n",
            "feature_110 feature_124 0.9853514279083918\n",
            "feature_114 feature_124 0.9961481273626994\n",
            "feature_115 feature_124 0.9569045799917869\n",
            "feature_119 feature_124 0.9658274870989063\n",
            "feature_120 feature_124 0.9889873273877635\n",
            "feature_13 feature_126 0.9161563871922709\n",
            "feature_3 feature_136 0.9150628655387286\n",
            "feature_23 feature_136 0.9085217018172074\n",
            "feature_108 feature_136 0.9390925751780098\n",
            "feature_5 feature_137 0.9024311630329874\n",
            "feature_22 feature_138 0.9509342193022997\n",
            "feature_38 feature_139 0.9404500291111766\n",
            "feature_63 feature_139 0.9133676315697021\n",
            "feature_88 feature_139 0.915223269351418\n",
            "feature_103 feature_139 0.9700800616533662\n",
            "feature_54 feature_140 0.9112928175517656\n",
            "feature_59 feature_140 0.9203013684147662\n",
            "feature_24 feature_142 0.9990512784276904\n",
            "feature_70 feature_142 0.9225774008472816\n",
            "feature_74 feature_142 0.9224488624838595\n",
            "feature_39 feature_143 0.9968388943171447\n"
          ]
        }
      ]
    },
    {
      "cell_type": "code",
      "source": [
        "corr['rank'].drop('rank').sort_values(ascending=False)"
      ],
      "metadata": {
        "id": "tFflfXaXcLHf",
        "colab": {
          "base_uri": "https://localhost:8080/"
        },
        "outputId": "2d55df07-53ff-4064-9261-b563d42340e0"
      },
      "execution_count": 15,
      "outputs": [
        {
          "output_type": "execute_result",
          "data": {
            "text/plain": [
              "feature_97     0.236579\n",
              "feature_7      0.235747\n",
              "feature_107    0.217172\n",
              "feature_122    0.211948\n",
              "feature_102    0.207539\n",
              "                 ...   \n",
              "feature_18    -0.122099\n",
              "feature_17    -0.127172\n",
              "feature_10    -0.127519\n",
              "feature_14    -0.127711\n",
              "feature_16    -0.128370\n",
              "Name: rank, Length: 141, dtype: float64"
            ]
          },
          "metadata": {},
          "execution_count": 15
        }
      ]
    },
    {
      "cell_type": "code",
      "source": [
        "corr['rank']['query_id']"
      ],
      "metadata": {
        "id": "DCsSWmwUiGc4",
        "colab": {
          "base_uri": "https://localhost:8080/"
        },
        "outputId": "04f836a1-3aa0-4cf2-9125-9a6329e7a01a"
      },
      "execution_count": 16,
      "outputs": [
        {
          "output_type": "execute_result",
          "data": {
            "text/plain": [
              "0.06763902711136546"
            ]
          },
          "metadata": {},
          "execution_count": 16
        }
      ]
    },
    {
      "cell_type": "markdown",
      "source": [
        "Мы увидели, что в датасете все признаки численные, пропусков нет, дубликатов нет, сильной корреляции с ранком ни у какого конкретного признака нет. Однако присутствует мультиколлинеарность (некоторые фичи очень сильно коррелируют друг с другом), поэтому в обучении модели будем использовать L1-регуляризацию.\n",
        "\n",
        "Также важно отметить, что ранк не уникален для одного `query_id`, то есть в рамках одной сессии мы можем получить несколько одинаково релевантных результатов.\n",
        "В данном случае эффективно будет использовать pointwise или pairwise подход для обучения ранжированию. Попробуем разные модели и решим, какая лучше, на основании результатов.\n",
        "\n",
        "Train и test-датасеты сделаем из исходной выборки простым `train_test_split` из sklearn. Также сделаем валидационный датасет, так как у нас довольно много данных."
      ],
      "metadata": {
        "id": "AZxZiIndcvbS"
      }
    },
    {
      "cell_type": "markdown",
      "source": [
        "# Models development & training"
      ],
      "metadata": {
        "id": "--yAl4nIpwGU"
      }
    },
    {
      "cell_type": "markdown",
      "source": [
        "Построим и обучим 2 модели: XGBClassifier и XGBRanker. Посмотрим, что сработает лучше для задачи ранжирования.\n",
        "\n",
        "В качестве метрик будем использовать nDCG@5 и pFound."
      ],
      "metadata": {
        "id": "G7Rc5TCi3vbk"
      }
    },
    {
      "cell_type": "code",
      "source": [
        "X = data.drop(['query_id', 'rank'], axis=1)\n",
        "y = data['rank']\n",
        "query_id = data['query_id']"
      ],
      "metadata": {
        "id": "qOBgs2qq_D_T"
      },
      "execution_count": 17,
      "outputs": []
    },
    {
      "cell_type": "code",
      "source": [
        "X_train, X_temp, y_train, y_temp, query_id_train, query_id_temp = train_test_split(\n",
        "    X, y, query_id, test_size=0.4, random_state=42)\n",
        "X_val, X_test, y_val, y_test, query_id_val, query_id_test = train_test_split(\n",
        "    X_temp, y_temp, query_id_temp, test_size=0.5, random_state=42)"
      ],
      "metadata": {
        "id": "5FFaFFDB_HEL"
      },
      "execution_count": 18,
      "outputs": []
    },
    {
      "cell_type": "code",
      "source": [
        "eval_set = [(X_val, y_val)]"
      ],
      "metadata": {
        "id": "YzMqe4aq_NbJ"
      },
      "execution_count": 19,
      "outputs": []
    },
    {
      "cell_type": "markdown",
      "source": [
        "## XGBoost Classifier"
      ],
      "metadata": {
        "id": "00wkeGTjjq-O"
      }
    },
    {
      "cell_type": "code",
      "source": [
        "xgb_clf = XGBClassifier(n_estimators=1000, learning_rate=0.1,\n",
        "                        max_depth=6,\n",
        "                        objective='multi:softprob',\n",
        "                        verbosity=0, use_label_encoder=False,\n",
        "                        tree_method='hist', reg_alpha=0.005,\n",
        "                        eval_set=eval_set, verbose=True, device='gpu')"
      ],
      "metadata": {
        "id": "sOBaOnexmT1U"
      },
      "execution_count": 20,
      "outputs": []
    },
    {
      "cell_type": "code",
      "source": [
        "xgb_clf.fit(X_train, y_train, verbose=True)"
      ],
      "metadata": {
        "id": "gjXtbJoSi7Bh",
        "colab": {
          "base_uri": "https://localhost:8080/",
          "height": 251
        },
        "outputId": "e4971268-1aaa-4788-deeb-ea47582e3b98"
      },
      "execution_count": 21,
      "outputs": [
        {
          "output_type": "execute_result",
          "data": {
            "text/plain": [
              "XGBClassifier(base_score=None, booster=None, callbacks=None,\n",
              "              colsample_bylevel=None, colsample_bynode=None,\n",
              "              colsample_bytree=None, device='gpu', early_stopping_rounds=None,\n",
              "              enable_categorical=False, eval_metric=None,\n",
              "              eval_set=[(        feature_0  feature_1  feature_2  feature_3  feature_4  feature_5  \\\n",
              "165828        2.0        0.0        0.0        1.0        2.0   0.666667   \n",
              "194831        0.0        0.0        0.0        0.0        0.0   0.000000   \n",
              "134301        5.0        0.0        2.0        2.0        5...\n",
              "              feature_types=None, gamma=None, grow_policy=None,\n",
              "              importance_type=None, interaction_constraints=None,\n",
              "              learning_rate=0.1, max_bin=None, max_cat_threshold=None,\n",
              "              max_cat_to_onehot=None, max_delta_step=None, max_depth=6,\n",
              "              max_leaves=None, min_child_weight=None, missing=nan,\n",
              "              monotone_constraints=None, multi_strategy=None, n_estimators=1000,\n",
              "              n_jobs=None, num_parallel_tree=None, ...)"
            ],
            "text/html": [
              "<style>#sk-container-id-1 {color: black;background-color: white;}#sk-container-id-1 pre{padding: 0;}#sk-container-id-1 div.sk-toggleable {background-color: white;}#sk-container-id-1 label.sk-toggleable__label {cursor: pointer;display: block;width: 100%;margin-bottom: 0;padding: 0.3em;box-sizing: border-box;text-align: center;}#sk-container-id-1 label.sk-toggleable__label-arrow:before {content: \"▸\";float: left;margin-right: 0.25em;color: #696969;}#sk-container-id-1 label.sk-toggleable__label-arrow:hover:before {color: black;}#sk-container-id-1 div.sk-estimator:hover label.sk-toggleable__label-arrow:before {color: black;}#sk-container-id-1 div.sk-toggleable__content {max-height: 0;max-width: 0;overflow: hidden;text-align: left;background-color: #f0f8ff;}#sk-container-id-1 div.sk-toggleable__content pre {margin: 0.2em;color: black;border-radius: 0.25em;background-color: #f0f8ff;}#sk-container-id-1 input.sk-toggleable__control:checked~div.sk-toggleable__content {max-height: 200px;max-width: 100%;overflow: auto;}#sk-container-id-1 input.sk-toggleable__control:checked~label.sk-toggleable__label-arrow:before {content: \"▾\";}#sk-container-id-1 div.sk-estimator input.sk-toggleable__control:checked~label.sk-toggleable__label {background-color: #d4ebff;}#sk-container-id-1 div.sk-label input.sk-toggleable__control:checked~label.sk-toggleable__label {background-color: #d4ebff;}#sk-container-id-1 input.sk-hidden--visually {border: 0;clip: rect(1px 1px 1px 1px);clip: rect(1px, 1px, 1px, 1px);height: 1px;margin: -1px;overflow: hidden;padding: 0;position: absolute;width: 1px;}#sk-container-id-1 div.sk-estimator {font-family: monospace;background-color: #f0f8ff;border: 1px dotted black;border-radius: 0.25em;box-sizing: border-box;margin-bottom: 0.5em;}#sk-container-id-1 div.sk-estimator:hover {background-color: #d4ebff;}#sk-container-id-1 div.sk-parallel-item::after {content: \"\";width: 100%;border-bottom: 1px solid gray;flex-grow: 1;}#sk-container-id-1 div.sk-label:hover label.sk-toggleable__label {background-color: #d4ebff;}#sk-container-id-1 div.sk-serial::before {content: \"\";position: absolute;border-left: 1px solid gray;box-sizing: border-box;top: 0;bottom: 0;left: 50%;z-index: 0;}#sk-container-id-1 div.sk-serial {display: flex;flex-direction: column;align-items: center;background-color: white;padding-right: 0.2em;padding-left: 0.2em;position: relative;}#sk-container-id-1 div.sk-item {position: relative;z-index: 1;}#sk-container-id-1 div.sk-parallel {display: flex;align-items: stretch;justify-content: center;background-color: white;position: relative;}#sk-container-id-1 div.sk-item::before, #sk-container-id-1 div.sk-parallel-item::before {content: \"\";position: absolute;border-left: 1px solid gray;box-sizing: border-box;top: 0;bottom: 0;left: 50%;z-index: -1;}#sk-container-id-1 div.sk-parallel-item {display: flex;flex-direction: column;z-index: 1;position: relative;background-color: white;}#sk-container-id-1 div.sk-parallel-item:first-child::after {align-self: flex-end;width: 50%;}#sk-container-id-1 div.sk-parallel-item:last-child::after {align-self: flex-start;width: 50%;}#sk-container-id-1 div.sk-parallel-item:only-child::after {width: 0;}#sk-container-id-1 div.sk-dashed-wrapped {border: 1px dashed gray;margin: 0 0.4em 0.5em 0.4em;box-sizing: border-box;padding-bottom: 0.4em;background-color: white;}#sk-container-id-1 div.sk-label label {font-family: monospace;font-weight: bold;display: inline-block;line-height: 1.2em;}#sk-container-id-1 div.sk-label-container {text-align: center;}#sk-container-id-1 div.sk-container {/* jupyter's `normalize.less` sets `[hidden] { display: none; }` but bootstrap.min.css set `[hidden] { display: none !important; }` so we also need the `!important` here to be able to override the default hidden behavior on the sphinx rendered scikit-learn.org. See: https://github.com/scikit-learn/scikit-learn/issues/21755 */display: inline-block !important;position: relative;}#sk-container-id-1 div.sk-text-repr-fallback {display: none;}</style><div id=\"sk-container-id-1\" class=\"sk-top-container\"><div class=\"sk-text-repr-fallback\"><pre>XGBClassifier(base_score=None, booster=None, callbacks=None,\n",
              "              colsample_bylevel=None, colsample_bynode=None,\n",
              "              colsample_bytree=None, device=&#x27;gpu&#x27;, early_stopping_rounds=None,\n",
              "              enable_categorical=False, eval_metric=None,\n",
              "              eval_set=[(        feature_0  feature_1  feature_2  feature_3  feature_4  feature_5  \\\n",
              "165828        2.0        0.0        0.0        1.0        2.0   0.666667   \n",
              "194831        0.0        0.0        0.0        0.0        0.0   0.000000   \n",
              "134301        5.0        0.0        2.0        2.0        5...\n",
              "              feature_types=None, gamma=None, grow_policy=None,\n",
              "              importance_type=None, interaction_constraints=None,\n",
              "              learning_rate=0.1, max_bin=None, max_cat_threshold=None,\n",
              "              max_cat_to_onehot=None, max_delta_step=None, max_depth=6,\n",
              "              max_leaves=None, min_child_weight=None, missing=nan,\n",
              "              monotone_constraints=None, multi_strategy=None, n_estimators=1000,\n",
              "              n_jobs=None, num_parallel_tree=None, ...)</pre><b>In a Jupyter environment, please rerun this cell to show the HTML representation or trust the notebook. <br />On GitHub, the HTML representation is unable to render, please try loading this page with nbviewer.org.</b></div><div class=\"sk-container\" hidden><div class=\"sk-item\"><div class=\"sk-estimator sk-toggleable\"><input class=\"sk-toggleable__control sk-hidden--visually\" id=\"sk-estimator-id-1\" type=\"checkbox\" checked><label for=\"sk-estimator-id-1\" class=\"sk-toggleable__label sk-toggleable__label-arrow\">XGBClassifier</label><div class=\"sk-toggleable__content\"><pre>XGBClassifier(base_score=None, booster=None, callbacks=None,\n",
              "              colsample_bylevel=None, colsample_bynode=None,\n",
              "              colsample_bytree=None, device=&#x27;gpu&#x27;, early_stopping_rounds=None,\n",
              "              enable_categorical=False, eval_metric=None,\n",
              "              eval_set=[(        feature_0  feature_1  feature_2  feature_3  feature_4  feature_5  \\\n",
              "165828        2.0        0.0        0.0        1.0        2.0   0.666667   \n",
              "194831        0.0        0.0        0.0        0.0        0.0   0.000000   \n",
              "134301        5.0        0.0        2.0        2.0        5...\n",
              "              feature_types=None, gamma=None, grow_policy=None,\n",
              "              importance_type=None, interaction_constraints=None,\n",
              "              learning_rate=0.1, max_bin=None, max_cat_threshold=None,\n",
              "              max_cat_to_onehot=None, max_delta_step=None, max_depth=6,\n",
              "              max_leaves=None, min_child_weight=None, missing=nan,\n",
              "              monotone_constraints=None, multi_strategy=None, n_estimators=1000,\n",
              "              n_jobs=None, num_parallel_tree=None, ...)</pre></div></div></div></div></div>"
            ]
          },
          "metadata": {},
          "execution_count": 21
        }
      ]
    },
    {
      "cell_type": "code",
      "source": [
        "# подсчёт ndcg@5\n",
        "\n",
        "y_pred_xgb_clf = xgb_clf.predict(X_test)\n",
        "\n",
        "def avg_ndcg(y_true, y_score, query_id_score, cnt):\n",
        "    ndcg_scores = []\n",
        "    for qid in np.unique(query_id_score):\n",
        "        indices = np.where(query_id_score == qid)[0]\n",
        "        true_rel = y_true.iloc[indices].values\n",
        "        pred_scores = y_score[indices]\n",
        "\n",
        "        if len(true_rel) == 1:\n",
        "            continue\n",
        "\n",
        "        rel_sorted_idx = np.argsort(-pred_scores, axis=0)[:]\n",
        "        sorted_pred_scores = pred_scores[rel_sorted_idx]\n",
        "\n",
        "        k = min(cnt, len(true_rel))\n",
        "        ndcg = ndcg_score([true_rel], [sorted_pred_scores], k=k)\n",
        "        ndcg_scores.append(ndcg)\n",
        "\n",
        "    average_ndcg = np.mean(ndcg_scores) if ndcg_scores else float('nan')\n",
        "\n",
        "    return average_ndcg"
      ],
      "metadata": {
        "id": "IlvnsAF67-XM"
      },
      "execution_count": 22,
      "outputs": []
    },
    {
      "cell_type": "code",
      "source": [
        "print(f'Average NDCG@5: {avg_ndcg(y_test, y_pred_xgb_clf, query_id_test, 5)}')"
      ],
      "metadata": {
        "id": "X85ff-XDBFix",
        "colab": {
          "base_uri": "https://localhost:8080/"
        },
        "outputId": "5631a0b8-8459-4c89-c539-ccfe5cc3ef98"
      },
      "execution_count": 23,
      "outputs": [
        {
          "output_type": "stream",
          "name": "stdout",
          "text": [
            "Average NDCG@5: 0.33931625111099906\n"
          ]
        }
      ]
    },
    {
      "cell_type": "code",
      "source": [
        "# подсчёт pFound\n",
        "\n",
        "def pfound(y_true, y_score, query_ids, p_break=0.15):\n",
        "\n",
        "    y_true = y_true.values\n",
        "\n",
        "    p_found_values = []\n",
        "\n",
        "    for qid in np.unique(query_ids):\n",
        "        indices = np.where(query_ids == qid)[0]\n",
        "\n",
        "        y_true_normalized = y_true[indices] / 4\n",
        "        y_score_sorted = y_score[indices]\n",
        "        order = np.argsort(-y_score_sorted)\n",
        "        y_true_sorted = y_true_normalized[order]\n",
        "\n",
        "        p_look = 1\n",
        "        p_found = 0\n",
        "\n",
        "        for rel in y_true_sorted:\n",
        "            p_found += p_look * rel\n",
        "            p_look *= (1 - rel) * (1 - p_break)\n",
        "\n",
        "        p_found_values.append(p_found)\n",
        "\n",
        "    return np.mean(p_found_values)"
      ],
      "metadata": {
        "id": "mk1Go2aKr9l9"
      },
      "execution_count": 24,
      "outputs": []
    },
    {
      "cell_type": "code",
      "source": [
        "print(f'PFound: {pfound(y_test, y_pred_xgb_clf, query_id_test)}')"
      ],
      "metadata": {
        "id": "5fCfNjXO9uhU",
        "colab": {
          "base_uri": "https://localhost:8080/"
        },
        "outputId": "3f7b517d-5090-4a39-9eaa-7953ff8cc5b8"
      },
      "execution_count": 25,
      "outputs": [
        {
          "output_type": "stream",
          "name": "stdout",
          "text": [
            "PFound: 0.5882059154946356\n"
          ]
        }
      ]
    },
    {
      "cell_type": "markdown",
      "source": [
        "## XGBoost Ranker"
      ],
      "metadata": {
        "id": "nOqWuy7ZjuJJ"
      }
    },
    {
      "cell_type": "code",
      "source": [
        "xgb_rank = XGBRanker(n_estimators=1000, learning_rate=0.1,\n",
        "                        max_depth=6,\n",
        "                        objective='rank:pairwise',\n",
        "                        verbosity=0, use_label_encoder=False,\n",
        "                        tree_method='hist', reg_alpha=0.005, verbose=True,\n",
        "                        eval_set=eval_set, device='gpu')"
      ],
      "metadata": {
        "id": "e_LR0Girjw-R"
      },
      "execution_count": 26,
      "outputs": []
    },
    {
      "cell_type": "code",
      "source": [
        "sorted_idx = query_id_train.argsort()\n",
        "X_train_sorted = X_train.iloc[sorted_idx]\n",
        "y_train_sorted = y_train.iloc[sorted_idx]\n",
        "query_id_train_sorted = query_id_train.iloc[sorted_idx]\n",
        "\n",
        "group_train = query_id_train_sorted.groupby(query_id_train_sorted).size().values"
      ],
      "metadata": {
        "id": "G_o1z4pAjzDs"
      },
      "execution_count": 27,
      "outputs": []
    },
    {
      "cell_type": "code",
      "source": [
        "xgb_rank.fit(X_train_sorted, y_train_sorted, group=group_train)"
      ],
      "metadata": {
        "colab": {
          "base_uri": "https://localhost:8080/",
          "height": 251
        },
        "id": "78OaWi4OtMDb",
        "outputId": "04e32307-46e5-4893-dd86-bc3c338cbbd2"
      },
      "execution_count": 28,
      "outputs": [
        {
          "output_type": "execute_result",
          "data": {
            "text/plain": [
              "XGBRanker(base_score=None, booster=None, callbacks=None, colsample_bylevel=None,\n",
              "          colsample_bynode=None, colsample_bytree=None, device='gpu',\n",
              "          early_stopping_rounds=None, enable_categorical=False,\n",
              "          eval_metric=None,\n",
              "          eval_set=[(        feature_0  feature_1  feature_2  feature_3  feature_4  feature_5  \\\n",
              "165828        2.0        0.0        0.0        1.0        2.0   0.666667   \n",
              "194831        0.0        0.0        0.0        0.0        0.0   0.000000   \n",
              "134301        5.0        0.0        2.0        2.0        5.0   1....\n",
              "          feature_types=None, gamma=None, grow_policy=None,\n",
              "          importance_type=None, interaction_constraints=None, learning_rate=0.1,\n",
              "          max_bin=None, max_cat_threshold=None, max_cat_to_onehot=None,\n",
              "          max_delta_step=None, max_depth=6, max_leaves=None,\n",
              "          min_child_weight=None, missing=nan, monotone_constraints=None,\n",
              "          multi_strategy=None, n_estimators=1000, n_jobs=None,\n",
              "          num_parallel_tree=None, ...)"
            ],
            "text/html": [
              "<style>#sk-container-id-2 {color: black;background-color: white;}#sk-container-id-2 pre{padding: 0;}#sk-container-id-2 div.sk-toggleable {background-color: white;}#sk-container-id-2 label.sk-toggleable__label {cursor: pointer;display: block;width: 100%;margin-bottom: 0;padding: 0.3em;box-sizing: border-box;text-align: center;}#sk-container-id-2 label.sk-toggleable__label-arrow:before {content: \"▸\";float: left;margin-right: 0.25em;color: #696969;}#sk-container-id-2 label.sk-toggleable__label-arrow:hover:before {color: black;}#sk-container-id-2 div.sk-estimator:hover label.sk-toggleable__label-arrow:before {color: black;}#sk-container-id-2 div.sk-toggleable__content {max-height: 0;max-width: 0;overflow: hidden;text-align: left;background-color: #f0f8ff;}#sk-container-id-2 div.sk-toggleable__content pre {margin: 0.2em;color: black;border-radius: 0.25em;background-color: #f0f8ff;}#sk-container-id-2 input.sk-toggleable__control:checked~div.sk-toggleable__content {max-height: 200px;max-width: 100%;overflow: auto;}#sk-container-id-2 input.sk-toggleable__control:checked~label.sk-toggleable__label-arrow:before {content: \"▾\";}#sk-container-id-2 div.sk-estimator input.sk-toggleable__control:checked~label.sk-toggleable__label {background-color: #d4ebff;}#sk-container-id-2 div.sk-label input.sk-toggleable__control:checked~label.sk-toggleable__label {background-color: #d4ebff;}#sk-container-id-2 input.sk-hidden--visually {border: 0;clip: rect(1px 1px 1px 1px);clip: rect(1px, 1px, 1px, 1px);height: 1px;margin: -1px;overflow: hidden;padding: 0;position: absolute;width: 1px;}#sk-container-id-2 div.sk-estimator {font-family: monospace;background-color: #f0f8ff;border: 1px dotted black;border-radius: 0.25em;box-sizing: border-box;margin-bottom: 0.5em;}#sk-container-id-2 div.sk-estimator:hover {background-color: #d4ebff;}#sk-container-id-2 div.sk-parallel-item::after {content: \"\";width: 100%;border-bottom: 1px solid gray;flex-grow: 1;}#sk-container-id-2 div.sk-label:hover label.sk-toggleable__label {background-color: #d4ebff;}#sk-container-id-2 div.sk-serial::before {content: \"\";position: absolute;border-left: 1px solid gray;box-sizing: border-box;top: 0;bottom: 0;left: 50%;z-index: 0;}#sk-container-id-2 div.sk-serial {display: flex;flex-direction: column;align-items: center;background-color: white;padding-right: 0.2em;padding-left: 0.2em;position: relative;}#sk-container-id-2 div.sk-item {position: relative;z-index: 1;}#sk-container-id-2 div.sk-parallel {display: flex;align-items: stretch;justify-content: center;background-color: white;position: relative;}#sk-container-id-2 div.sk-item::before, #sk-container-id-2 div.sk-parallel-item::before {content: \"\";position: absolute;border-left: 1px solid gray;box-sizing: border-box;top: 0;bottom: 0;left: 50%;z-index: -1;}#sk-container-id-2 div.sk-parallel-item {display: flex;flex-direction: column;z-index: 1;position: relative;background-color: white;}#sk-container-id-2 div.sk-parallel-item:first-child::after {align-self: flex-end;width: 50%;}#sk-container-id-2 div.sk-parallel-item:last-child::after {align-self: flex-start;width: 50%;}#sk-container-id-2 div.sk-parallel-item:only-child::after {width: 0;}#sk-container-id-2 div.sk-dashed-wrapped {border: 1px dashed gray;margin: 0 0.4em 0.5em 0.4em;box-sizing: border-box;padding-bottom: 0.4em;background-color: white;}#sk-container-id-2 div.sk-label label {font-family: monospace;font-weight: bold;display: inline-block;line-height: 1.2em;}#sk-container-id-2 div.sk-label-container {text-align: center;}#sk-container-id-2 div.sk-container {/* jupyter's `normalize.less` sets `[hidden] { display: none; }` but bootstrap.min.css set `[hidden] { display: none !important; }` so we also need the `!important` here to be able to override the default hidden behavior on the sphinx rendered scikit-learn.org. See: https://github.com/scikit-learn/scikit-learn/issues/21755 */display: inline-block !important;position: relative;}#sk-container-id-2 div.sk-text-repr-fallback {display: none;}</style><div id=\"sk-container-id-2\" class=\"sk-top-container\"><div class=\"sk-text-repr-fallback\"><pre>XGBRanker(base_score=None, booster=None, callbacks=None, colsample_bylevel=None,\n",
              "          colsample_bynode=None, colsample_bytree=None, device=&#x27;gpu&#x27;,\n",
              "          early_stopping_rounds=None, enable_categorical=False,\n",
              "          eval_metric=None,\n",
              "          eval_set=[(        feature_0  feature_1  feature_2  feature_3  feature_4  feature_5  \\\n",
              "165828        2.0        0.0        0.0        1.0        2.0   0.666667   \n",
              "194831        0.0        0.0        0.0        0.0        0.0   0.000000   \n",
              "134301        5.0        0.0        2.0        2.0        5.0   1....\n",
              "          feature_types=None, gamma=None, grow_policy=None,\n",
              "          importance_type=None, interaction_constraints=None, learning_rate=0.1,\n",
              "          max_bin=None, max_cat_threshold=None, max_cat_to_onehot=None,\n",
              "          max_delta_step=None, max_depth=6, max_leaves=None,\n",
              "          min_child_weight=None, missing=nan, monotone_constraints=None,\n",
              "          multi_strategy=None, n_estimators=1000, n_jobs=None,\n",
              "          num_parallel_tree=None, ...)</pre><b>In a Jupyter environment, please rerun this cell to show the HTML representation or trust the notebook. <br />On GitHub, the HTML representation is unable to render, please try loading this page with nbviewer.org.</b></div><div class=\"sk-container\" hidden><div class=\"sk-item\"><div class=\"sk-estimator sk-toggleable\"><input class=\"sk-toggleable__control sk-hidden--visually\" id=\"sk-estimator-id-2\" type=\"checkbox\" checked><label for=\"sk-estimator-id-2\" class=\"sk-toggleable__label sk-toggleable__label-arrow\">XGBRanker</label><div class=\"sk-toggleable__content\"><pre>XGBRanker(base_score=None, booster=None, callbacks=None, colsample_bylevel=None,\n",
              "          colsample_bynode=None, colsample_bytree=None, device=&#x27;gpu&#x27;,\n",
              "          early_stopping_rounds=None, enable_categorical=False,\n",
              "          eval_metric=None,\n",
              "          eval_set=[(        feature_0  feature_1  feature_2  feature_3  feature_4  feature_5  \\\n",
              "165828        2.0        0.0        0.0        1.0        2.0   0.666667   \n",
              "194831        0.0        0.0        0.0        0.0        0.0   0.000000   \n",
              "134301        5.0        0.0        2.0        2.0        5.0   1....\n",
              "          feature_types=None, gamma=None, grow_policy=None,\n",
              "          importance_type=None, interaction_constraints=None, learning_rate=0.1,\n",
              "          max_bin=None, max_cat_threshold=None, max_cat_to_onehot=None,\n",
              "          max_delta_step=None, max_depth=6, max_leaves=None,\n",
              "          min_child_weight=None, missing=nan, monotone_constraints=None,\n",
              "          multi_strategy=None, n_estimators=1000, n_jobs=None,\n",
              "          num_parallel_tree=None, ...)</pre></div></div></div></div></div>"
            ]
          },
          "metadata": {},
          "execution_count": 28
        }
      ]
    },
    {
      "cell_type": "code",
      "source": [
        "y_pred_xgb_rank = xgb_rank.predict(X_test)"
      ],
      "metadata": {
        "id": "84GvxIcGue09"
      },
      "execution_count": 29,
      "outputs": []
    },
    {
      "cell_type": "code",
      "source": [
        "print(f'Average NDCG@5: {avg_ndcg(y_test, y_pred_xgb_rank, query_id_test, 5)}')"
      ],
      "metadata": {
        "id": "ivXBiSyzjzha",
        "colab": {
          "base_uri": "https://localhost:8080/"
        },
        "outputId": "b42442ab-1533-4878-d793-a160d8a230ad"
      },
      "execution_count": 30,
      "outputs": [
        {
          "output_type": "stream",
          "name": "stdout",
          "text": [
            "Average NDCG@5: 0.3435369176066209\n"
          ]
        }
      ]
    },
    {
      "cell_type": "code",
      "source": [
        "print(f'PFound: {pfound(y_test, y_pred_xgb_rank, query_id_test)}')"
      ],
      "metadata": {
        "id": "5oFXobKzjzy4",
        "colab": {
          "base_uri": "https://localhost:8080/"
        },
        "outputId": "0df94401-27d2-4491-91a4-22651886877c"
      },
      "execution_count": 31,
      "outputs": [
        {
          "output_type": "stream",
          "name": "stdout",
          "text": [
            "PFound: 0.6274360695412513\n"
          ]
        }
      ]
    },
    {
      "cell_type": "markdown",
      "source": [
        "Низкое значение NDCG@5 в обоих случаях может свидетельствовать о том, что в выборке немного достаточно релевантных результатов, а также о том, что данные модели или гиперпараметры плохо подходят для этой задачи или этого датасета.\n",
        "\n",
        "Значение pFound - вероятности, что в каждом случае пользователь найдёт что-то достаточно релевантное, прежде чем остановит свой поиск - довольно высокое в обоих случаях и немного выше во втором, что может свидетельствовать о том, что вторая модель решает задачу ранжирования с данными условиями чуть лучше."
      ],
      "metadata": {
        "id": "jpiLIZ6kLRTj"
      }
    }
  ]
}